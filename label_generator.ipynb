{
 "cells": [
  {
   "cell_type": "code",
   "execution_count": null,
   "metadata": {},
   "outputs": [],
   "source": [
    "# coding: utf-8\n",
    "\n"
   ]
  },
  {
   "cell_type": "code",
   "execution_count": null,
   "metadata": {},
   "outputs": [],
   "source": [
    "class LabelGnerator():\n",
    "    def __init__(self, cfg, graph):\n",
    "        self.cfg = cfg\n",
    "        \n",
    "    \n",
    "    def sample_patch(self, patch_info):\n",
    "        # TODO 根据给定的patch返回其对应的所有关键点和其邻接点\n",
    "        # TODO 注意要先简化原graph，然后把再在各个keypoints间均匀（需要噪声？）采样， 间隔15个像素\n",
    "        pass\n",
    "    \n",
    "    "
   ]
  }
 ],
 "metadata": {
  "language_info": {
   "name": "python"
  }
 },
 "nbformat": 4,
 "nbformat_minor": 2
}
