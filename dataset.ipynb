{
 "cells": [
  {
   "cell_type": "code",
   "execution_count": null,
   "metadata": {},
   "outputs": [],
   "source": [
    "# coding: utf-8\n",
    "\n",
    "from torch.utils.data import Dataset"
   ]
  },
  {
   "cell_type": "code",
   "execution_count": null,
   "metadata": {},
   "outputs": [],
   "source": [
    "class R2RC_Dataset(Dataset):\n",
    "    def __init__(self, cfg, is_train=True, dev_run=False):\n",
    "        super().__init__()\n",
    "        self.cfg = cfg\n",
    "        \n",
    "    \n",
    "    def load_data(self):\n",
    "        # TODO\n",
    "        pass\n",
    "    \n",
    "    \n",
    "    def __len__(self):\n",
    "        # TODO 根据不同数据集返回不同的值，还需要理解samRoad为什么返回那个确切的值\n",
    "        pass\n",
    "    \n",
    "    \n",
    "    def __getitem__(self, index):\n",
    "        # TODO 数据增强\n",
    "        # TODO 返回如下数据\n",
    "        # 输入X：\n",
    "        #   ① RGB ② graph_keypoints_coord\n",
    "        # 标签Y：\n",
    "        #   ① keypoint_mask ② gt_adj_prob_and_coord\n",
    "        pass"
   ]
  }
 ],
 "metadata": {
  "kernelspec": {
   "display_name": "R2RC",
   "language": "python",
   "name": "python3"
  },
  "language_info": {
   "name": "python",
   "version": "3.11.9"
  }
 },
 "nbformat": 4,
 "nbformat_minor": 2
}
